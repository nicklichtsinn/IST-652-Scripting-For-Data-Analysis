{
 "cells": [
  {
   "cell_type": "code",
   "execution_count": 82,
   "id": "b69267d0",
   "metadata": {},
   "outputs": [
    {
     "data": {
      "text/html": [
       "<div>\n",
       "<style scoped>\n",
       "    .dataframe tbody tr th:only-of-type {\n",
       "        vertical-align: middle;\n",
       "    }\n",
       "\n",
       "    .dataframe tbody tr th {\n",
       "        vertical-align: top;\n",
       "    }\n",
       "\n",
       "    .dataframe thead th {\n",
       "        text-align: right;\n",
       "    }\n",
       "</style>\n",
       "<table border=\"1\" class=\"dataframe\">\n",
       "  <thead>\n",
       "    <tr style=\"text-align: right;\">\n",
       "      <th></th>\n",
       "      <th>GENDER</th>\n",
       "      <th>WEALTH</th>\n",
       "      <th>LASTGIFT</th>\n",
       "      <th>AVGGIFT</th>\n",
       "      <th>DONOR</th>\n",
       "      <th>TOTAL</th>\n",
       "    </tr>\n",
       "  </thead>\n",
       "  <tbody>\n",
       "    <tr>\n",
       "      <th>0</th>\n",
       "      <td>1</td>\n",
       "      <td>9</td>\n",
       "      <td>5.0</td>\n",
       "      <td>4.86</td>\n",
       "      <td>1</td>\n",
       "      <td>102.0</td>\n",
       "    </tr>\n",
       "    <tr>\n",
       "      <th>1</th>\n",
       "      <td>0</td>\n",
       "      <td>7</td>\n",
       "      <td>12.0</td>\n",
       "      <td>9.40</td>\n",
       "      <td>1</td>\n",
       "      <td>94.0</td>\n",
       "    </tr>\n",
       "    <tr>\n",
       "      <th>2</th>\n",
       "      <td>1</td>\n",
       "      <td>8</td>\n",
       "      <td>5.0</td>\n",
       "      <td>4.29</td>\n",
       "      <td>1</td>\n",
       "      <td>30.0</td>\n",
       "    </tr>\n",
       "    <tr>\n",
       "      <th>5</th>\n",
       "      <td>1</td>\n",
       "      <td>8</td>\n",
       "      <td>10.0</td>\n",
       "      <td>7.30</td>\n",
       "      <td>1</td>\n",
       "      <td>73.0</td>\n",
       "    </tr>\n",
       "    <tr>\n",
       "      <th>6</th>\n",
       "      <td>1</td>\n",
       "      <td>8</td>\n",
       "      <td>20.0</td>\n",
       "      <td>10.69</td>\n",
       "      <td>1</td>\n",
       "      <td>139.0</td>\n",
       "    </tr>\n",
       "  </tbody>\n",
       "</table>\n",
       "</div>"
      ],
      "text/plain": [
       "   GENDER  WEALTH  LASTGIFT  AVGGIFT  DONOR  TOTAL\n",
       "0       1       9       5.0     4.86      1  102.0\n",
       "1       0       7      12.0     9.40      1   94.0\n",
       "2       1       8       5.0     4.29      1   30.0\n",
       "5       1       8      10.0     7.30      1   73.0\n",
       "6       1       8      20.0    10.69      1  139.0"
      ]
     },
     "execution_count": 82,
     "metadata": {},
     "output_type": "execute_result"
    }
   ],
   "source": [
    "import numpy as np # importing numpy\n",
    "import pandas as pd # importing pandas to read the csv into a dataframe\n",
    "df = pd.read_csv('donors_data_HW1.csv') # reading in the csv file\n",
    "df['TOTAL'] = df['TOTAL'].astype(float) # formatting to float\n",
    "df['AVGGIFT'] = df['AVGGIFT'].astype(float) # formatting to float\n",
    "df = df.drop(columns = ['ROW_ID']) # dropping the row ID column because I won't be using them in my analysis\n",
    "df = df.round(decimals=2)# rounding the decimal places to 2 to clean up the dataframe\n",
    "donorsdf = df[df['DONOR'] == 1] #getting rid of the non-donors by creating a sub dataframe with only donors\n",
    "donorsdf.head() # printing the beginning of the dataframe to see what we are working with"
   ]
  },
  {
   "cell_type": "code",
   "execution_count": 85,
   "id": "138c8412",
   "metadata": {},
   "outputs": [
    {
     "name": "stdout",
     "output_type": "stream",
     "text": [
      "   Wealth Group  Average Total Gifted  Average Gift Amount\n",
      "0             0            170.305556             8.527593\n",
      "1             1            140.333333             8.836400\n",
      "2             2            168.566324             9.187206\n",
      "3             3            183.243590             9.883462\n",
      "4             4            135.760135             9.035135\n",
      "5             5            165.348837             8.594767\n",
      "6             6            162.161954             9.725057\n",
      "7             7            176.856061            10.860202\n",
      "8             8             71.604970            10.339046\n",
      "9             9            152.897200            12.080900\n"
     ]
    }
   ],
   "source": [
    " # Question 1: For each wealth type what is the average gift and total gift amount?\n",
    "data = [] # creating an empty data list\n",
    "for x in sorted(donorsdf['WEALTH'].unique()): #looping through the column of the dataframe for the unique values and sorting by those values\n",
    "    uwealth = x # setting the wealth group value\n",
    "    avg_total = donorsdf[donorsdf[\"WEALTH\"] == x][\"TOTAL\"].mean() # calculating the mean of the total gift based on the wealth value\n",
    "    avg_gift = donorsdf[donorsdf[\"WEALTH\"] == x][\"AVGGIFT\"].mean() # calculating the mean of the average gift based on the wealth value\n",
    "    data.append([uwealth, avg_total, avg_gift]) # apppending the values to my data list to pass into the dataframe\n",
    "df2 = pd.DataFrame(data, columns = ['Wealth Group', 'Average Total Gifted', 'Average Gift Amount']) # creating the dataframe with our data list and column names\n",
    "print(df2) # printing our dataframe"
   ]
  },
  {
   "cell_type": "code",
   "execution_count": 97,
   "id": "ba904cca",
   "metadata": {},
   "outputs": [
    {
     "name": "stdout",
     "output_type": "stream",
     "text": [
      "       Average Time Since Last Gift  Average Total Gifted\n",
      "Women                     13.094915            108.564881\n",
      "Men                       12.416495            116.157845\n"
     ]
    }
   ],
   "source": [
    " # Question 2: For each gender what is the average time since the last gift and how much have they gifted?\n",
    "data2 = []\n",
    "for x in sorted(donorsdf['GENDER'].unique()): #looping through the column of the dataframe for the unique values and sorting by those values\n",
    "    last_gift = donorsdf[donorsdf[\"GENDER\"] == x][\"LASTGIFT\"].mean() # pulling the average time since last gift based on gender\n",
    "    gifted = donorsdf[donorsdf[\"GENDER\"] == x][\"TOTAL\"].mean() # pulling the average total gifted based on gender\n",
    "    data2.append([last_gift, gifted]) # appending the information to my list\n",
    "df3 = pd.DataFrame(data2, columns = ['Average Time Since Last Gift', 'Average Total Gifted']) # creating the dataframe from my list and column names\n",
    "df3.index = ['Women', 'Men'] # renaming the rows so we know which gender is which row\n",
    "print(df3) #printing the dataframe"
   ]
  },
  {
   "cell_type": "code",
   "execution_count": null,
   "id": "f82ce76b",
   "metadata": {},
   "outputs": [],
   "source": []
  }
 ],
 "metadata": {
  "kernelspec": {
   "display_name": "Python 3",
   "language": "python",
   "name": "python3"
  },
  "language_info": {
   "codemirror_mode": {
    "name": "ipython",
    "version": 3
   },
   "file_extension": ".py",
   "mimetype": "text/x-python",
   "name": "python",
   "nbconvert_exporter": "python",
   "pygments_lexer": "ipython3",
   "version": "3.8.8"
  }
 },
 "nbformat": 4,
 "nbformat_minor": 5
}
